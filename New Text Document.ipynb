{
 "cells": [
  {
   "cell_type": "markdown",
   "metadata": {},
   "source": [
    "# Factorial Calculation using Recursion\n",
    "\n",
    "This notebook demonstrates a recursive function to calculate the factorial of a given number.\n",
    "It also handles edge cases such as negative inputs."
   ]
  },
  {
   "cell_type": "code",
   "execution_count": 1,
   "metadata": {},
   "outputs": [],
   "source": [
    "def recursive_factorial(n):\n",
    "    \"\"\"\n",
    "    Recursively calculates the factorial of a given number.\n",
    "    \n",
    "    :param n: Integer whose factorial is to be calculated\n",
    "    :return: Factorial of n\n",
    "    :raises ValueError: If n is negative\n",
    "    \"\"\"\n",
    "    if n < 0:\n",
    "        raise ValueError(\"Factorial is not defined for negative numbers.\")\n",
    "    elif n == 0 or n == 1:\n",
    "        return 1\n",
    "    else:\n",
    "        return n * recursive_factorial(n - 1)"
   ]
  },
  {
   "cell_type": "markdown",
   "metadata": {},
   "source": [
    "## Example Usage\n",
    "\n",
    "Below, we test our function with user input. If the input is negative, an error message is displayed."
   ]
  },
  {
   "cell_type": "code",
   "execution_count": 2,
   "metadata": {},
   "outputs": [],
   "source": [
    "try:\n",
    "    num = int(input(\"Enter a number: \"))\n",
    "    result = recursive_factorial(num)\n",
    "    print(f\"Factorial of {num} is {result}\")\n",
    "except ValueError as e:\n",
    "    print(e)"
   ]
  },
  {
   "cell_type": "markdown",
   "metadata": {},
   "source": [
    "## Testing the Function\n",
    "\n",
    "We will now test the function with different inputs to validate its correctness."
   ]
  },
  {
   "cell_type": "code",
   "execution_count": 3,
   "metadata": {},
   "outputs": [],
   "source": [
    "test_values = [5, 0, 1, -3, 7]\n",
    "\n",
    "for value in test_values:\n",
    "    try:\n",
    "        print(f\"Factorial of {value}: {recursive_factorial(value)}\")\n",
    "    except ValueError as e:\n",
    "        print(f\"Error for {value}: {e}\")"
   ]
  },
  {
   "cell_type": "markdown",
   "metadata": {},
   "source": [
    "## Conclusion\n",
    "\n",
    "The recursive factorial function correctly calculates the factorial for positive numbers and handles edge cases like negative inputs.\n",
    "\n",
    "### Key Learnings:\n",
    "- Recursion helps break down problems into smaller subproblems.\n",
    "- Edge cases should always be handled (like negative numbers).\n",
    "- Jupyter Notebooks allow us to combine explanations, code, and results in a structured way."
   ]
  }
 ],
 "metadata": {
  "kernelspec": {
   "display_name": "Python 3",
   "language": "python",
   "name": "python3"
  },
  "language_info": {
   "codemirror_mode": {
    "name": "ipython",
    "version": 3
   },
   "file_extension": ".py",
   "mimetype": "text/x-python",
   "name": "python",
   "nbconvert_exporter": "python",
   "pygments_lexer": "ipython3",
   "version": "3.8.10"
  }
 },
 "nbformat": 4,
 "nbformat_minor": 4
}
