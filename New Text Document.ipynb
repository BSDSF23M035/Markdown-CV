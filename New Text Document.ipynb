{
 "cells": [
  {
   "cell_type": "markdown",
   "metadata": {"tags": ["important", "notes"],
        "collapsed": false},
   "source": [
    "# Python Programming Tasks Assignment\n",
    "This notebook contains solutions for various Python tasks including recursion, prime numbers, lambda functions, and more."
   ]
  },
  {
   "cell_type": "markdown",
   "metadata": {},
   "source": [
    "## 1️⃣ Factorial Calculation using Recursion"
   ]
  },
  {
   "cell_type": "code",
   "execution_count": 1,
   "metadata": {},
   "outputs": [],
   "source": [
    "def recursive_factorial(n):\n",
    "    \"\"\"Recursively calculates the factorial of a given number.\"\"\"\n",
    "    if n < 0:\n",
    "        raise ValueError(\"Factorial is not defined for negative numbers.\")\n",
    "    elif n == 0 or n == 1:\n",
    "        return 1\n",
    "    else:\n",
    "        return n * recursive_factorial(n - 1)\n",
    "\n",
    "print(recursive_factorial(5))"
   ]
  },
  {
   "cell_type": "markdown",
   "metadata": {},
   "source": [
    "## 2️⃣ Generate First 10 Prime Numbers"
   ]
  },
  {
   "cell_type": "code",
   "execution_count": 2,
   "metadata": {},
   "outputs": [],
   "source": [
    "def generate_primes(n):\n",
    "    primes = [2]\n",
    "    num = 3\n",
    "    while len(primes) < n:\n",
    "        if all(num % p != 0 for p in primes if p * p <= num):\n",
    "            primes.append(num)\n",
    "        num += 2\n",
    "    return primes\n",
    "\n",
    "print(generate_primes(10))"
   ]
  },
  {
   "cell_type": "markdown",
   "metadata": {},
   "source": [
    "## 3️⃣ Longest Substring Without Repeating Characters"
   ]
  },
  {
   "cell_type": "code",
   "execution_count": 3,
   "metadata": {},
   "outputs": [],
   "source": [
    "def longest_unique_substring(s):\n",
    "    char_index = {}\n",
    "    start = max_length = 0\n",
    "    longest_substring = \"\"\n",
    "    \n",
    "    for i, char in enumerate(s):\n",
    "        if char in char_index and char_index[char] >= start:\n",
    "            start = char_index[char] + 1\n",
    "        char_index[char] = i\n",
    "        if i - start + 1 > max_length:\n",
    "            max_length = i - start + 1\n",
    "            longest_substring = s[start:i + 1]\n",
    "    return longest_substring\n",
    "\n",
    "print(longest_unique_substring(\"abcabcbb\"))"
   ]
  },
  {
   "cell_type": "markdown",
   "metadata": {},
   "source": [
    "## 4️⃣ Sorting List of Dictionaries by a Specific Key"
   ]
  },
  {
   "cell_type": "code",
   "execution_count": 4,
   "metadata": {},
   "outputs": [],
   "source": [
    "data = [{\"name\": \"Alice\", \"age\": 25}, {\"name\": \"Bob\", \"age\": 30}]\n",
    "sorted_data = sorted(data, key=lambda x: x[\"age\"])\n",
    "print(sorted_data)"
   ]
  },
  {
   "cell_type": "markdown",
   "metadata": {},
   "source": [
    "## 5️⃣ Convert Celsius to Fahrenheit using `map()`"
   ]
  },
  {
   "cell_type": "code",
   "execution_count": 5,
   "metadata": {},
   "outputs": [],
   "source": [
    "celsius = [0, 10, 20, 30, 40]\n",
    "fahrenheit = list(map(lambda c: (c * 9/5) + 32, celsius))\n",
    "print(fahrenheit)"
   ]
  },
  {
   "cell_type": "markdown",
   "metadata": {},
   "source": [
    "## 6️⃣ Extract Palindromic Numbers using `filter()`"
   ]
  },
  {
   "cell_type": "code",
   "execution_count": 6,
   "metadata": {},
   "outputs": [],
   "source": [
    "nums = [121, 123, 1331, 456]\n",
    "palindromes = list(filter(lambda x: str(x) == str(x)[::-1], nums))\n",
    "print(palindromes)"
   ]
  },
  {
   "cell_type": "markdown",
   "metadata": {},
   "source": [
    "## 7️⃣ Find GCD of a List of Numbers using `reduce()`"
   ]
  },
  {
   "cell_type": "code",
   "execution_count": 7,
   "metadata": {},
   "outputs": [],
   "source": [
    "from functools import reduce\n",
    "import math\n",
    "\n",
    "nums = [24, 36, 48]\n",
    "gcd_result = reduce(math.gcd, nums)\n",
    "print(gcd_result)"
   ]
  },
  {
   "cell_type": "markdown",
   "metadata": {},
   "source": [
    "## 8️⃣ Recursive Power Function (Handles Negative Exponents)"
   ]
  },
  {
   "cell_type": "code",
   "execution_count": 8,
   "metadata": {},
   "outputs": [],
   "source": [
    "def recursive_power(base, exp):\n",
    "    if exp == 0:\n",
    "        return 1\n",
    "    elif exp < 0:\n",
    "        return 1 / recursive_power(base, -exp)\n",
    "    else:\n",
    "        return base * recursive_power(base, exp - 1)\n",
    "\n",
    "print(recursive_power(2, 3))\n",
    "print(recursive_power(2, -3))"
   ]
  }
 ],
 "metadata": {
  "kernelspec": {
   "display_name": "Python 3",
   "language": "python",
   "name": "python3"
  },
  "language_info": {
   "codemirror_mode": {
    "name": "ipython",
    "version": 3
   },
   "file_extension": ".py",
   "mimetype": "text/x-python",
   "name": "python",
   "nbconvert_exporter": "python",
   "pygments_lexer": "ipython3",
   "version": "3.8.10"
  }
 },
 "nbformat": 4,
 "nbformat_minor": 4
}
